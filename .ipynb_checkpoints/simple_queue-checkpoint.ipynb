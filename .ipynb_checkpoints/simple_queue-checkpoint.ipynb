{
 "cells": [
  {
   "cell_type": "code",
   "execution_count": 2,
   "metadata": {},
   "outputs": [
    {
     "name": "stdout",
     "output_type": "stream",
     "text": [
      "Collecting queueing_toolNote: you may need to restart the kernel to use updated packages.\n",
      "\n",
      "  Downloading queueing-tool-1.2.4.tar.gz (269 kB)\n",
      "Requirement already satisfied: networkx>=1.9 in c:\\users\\arikl\\anaconda3\\lib\\site-packages (from queueing_tool) (2.4)\n",
      "Requirement already satisfied: numpy>=1.9 in c:\\users\\arikl\\anaconda3\\lib\\site-packages (from queueing_tool) (1.21.5)\n",
      "Requirement already satisfied: decorator>=4.3.0 in c:\\users\\arikl\\anaconda3\\lib\\site-packages (from networkx>=1.9->queueing_tool) (4.4.2)\n",
      "Building wheels for collected packages: queueing-tool\n",
      "  Building wheel for queueing-tool (setup.py): started\n",
      "  Building wheel for queueing-tool (setup.py): finished with status 'done'\n",
      "  Created wheel for queueing-tool: filename=queueing_tool-1.2.4-cp38-cp38-win_amd64.whl size=192452 sha256=75b67362080f8a7873733f4ec5aab583067293126988da20eefc8c5220820251\n",
      "  Stored in directory: c:\\users\\arikl\\appdata\\local\\pip\\cache\\wheels\\63\\d5\\6e\\8f38d6ae817468eee7d96bfae0357f61ab1ea9b3ca288d59df\n",
      "Successfully built queueing-tool\n",
      "Installing collected packages: queueing-tool\n",
      "Successfully installed queueing-tool-1.2.4\n"
     ]
    }
   ],
   "source": [
    "pip install queueing_tool"
   ]
  },
  {
   "cell_type": "code",
   "execution_count": 3,
   "metadata": {},
   "outputs": [],
   "source": [
    "import queueing_tool as qt\n",
    "import numpy as np\n",
    "import random\n",
    "import math\n",
    "import pandas as pd\n",
    "import time\n"
   ]
  },
  {
   "cell_type": "markdown",
   "metadata": {},
   "source": [
    "modified from https://queueing-tool.readthedocs.io/en/latest/overview.html"
   ]
  },
  {
   "cell_type": "code",
   "execution_count": 4,
   "metadata": {},
   "outputs": [],
   "source": [
    "adja_list = {0: [1]}      # only one station available"
   ]
  },
  {
   "cell_type": "code",
   "execution_count": 5,
   "metadata": {},
   "outputs": [],
   "source": [
    "edge_list = {0: {1: 1}}"
   ]
  },
  {
   "cell_type": "code",
   "execution_count": 6,
   "metadata": {},
   "outputs": [],
   "source": [
    "g = qt.adjacency2graph(adjacency=adja_list, edge_type=edge_list)"
   ]
  },
  {
   "cell_type": "code",
   "execution_count": 7,
   "metadata": {},
   "outputs": [],
   "source": [
    "# edit here\n",
    "_lambda = 0.9\n",
    "_mu = 1\n",
    "beta = 0.5\n",
    "c = 1#_lambda/_mu + beta * math.sqrt(_lambda/_mu)\n",
    "c = int(round(c,0))"
   ]
  },
  {
   "cell_type": "code",
   "execution_count": 8,
   "metadata": {},
   "outputs": [
    {
     "data": {
      "text/plain": [
       "1"
      ]
     },
     "execution_count": 8,
     "metadata": {},
     "output_type": "execute_result"
    }
   ],
   "source": [
    "c"
   ]
  },
  {
   "cell_type": "code",
   "execution_count": 9,
   "metadata": {},
   "outputs": [],
   "source": [
    "def arr_f(t):\n",
    "    return t + random.expovariate(_lambda)"
   ]
  },
  {
   "cell_type": "code",
   "execution_count": 10,
   "metadata": {},
   "outputs": [],
   "source": [
    "def ser_f(t):\n",
    "    return t + random.expovariate(_mu)"
   ]
  },
  {
   "cell_type": "code",
   "execution_count": 11,
   "metadata": {},
   "outputs": [],
   "source": [
    "q_classes = {1: qt.QueueServer}\n",
    "q_args    = {\n",
    "    1: {\n",
    "        'arrival_f': arr_f,\n",
    "        'service_f': ser_f,\n",
    "        'num_servers': c\n",
    "        }\n",
    "}\n",
    "qn = qt.QueueNetwork(g=g, q_classes=q_classes, q_args=q_args, seed=13)"
   ]
  },
  {
   "cell_type": "code",
   "execution_count": 12,
   "metadata": {},
   "outputs": [],
   "source": [
    "qn.initialize(edge_type=1)"
   ]
  },
  {
   "cell_type": "code",
   "execution_count": 13,
   "metadata": {},
   "outputs": [
    {
     "ename": "AttributeError",
     "evalue": "module 'time' has no attribute 'now'",
     "output_type": "error",
     "traceback": [
      "\u001b[1;31m---------------------------------------------------------------------------\u001b[0m",
      "\u001b[1;31mAttributeError\u001b[0m                            Traceback (most recent call last)",
      "\u001b[1;32m<ipython-input-13-2b2587a57384>\u001b[0m in \u001b[0;36m<module>\u001b[1;34m\u001b[0m\n\u001b[0;32m      1\u001b[0m \u001b[0mqn\u001b[0m\u001b[1;33m.\u001b[0m\u001b[0mstart_collecting_data\u001b[0m\u001b[1;33m(\u001b[0m\u001b[1;33m)\u001b[0m\u001b[1;33m\u001b[0m\u001b[1;33m\u001b[0m\u001b[0m\n\u001b[0;32m      2\u001b[0m \u001b[0mqn\u001b[0m\u001b[1;33m.\u001b[0m\u001b[0msimulate\u001b[0m\u001b[1;33m(\u001b[0m\u001b[0mn\u001b[0m\u001b[1;33m=\u001b[0m\u001b[1;36m1000000\u001b[0m\u001b[1;33m)\u001b[0m   \u001b[1;31m# n is the number of events\u001b[0m\u001b[1;33m\u001b[0m\u001b[1;33m\u001b[0m\u001b[0m\n\u001b[1;32m----> 3\u001b[1;33m \u001b[0mstart\u001b[0m \u001b[1;33m=\u001b[0m \u001b[0mtime\u001b[0m\u001b[1;33m.\u001b[0m\u001b[0mnow\u001b[0m\u001b[1;33m(\u001b[0m\u001b[1;33m)\u001b[0m\u001b[1;33m\u001b[0m\u001b[1;33m\u001b[0m\u001b[0m\n\u001b[0m",
      "\u001b[1;31mAttributeError\u001b[0m: module 'time' has no attribute 'now'"
     ]
    }
   ],
   "source": [
    "qn.start_collecting_data()\n",
    "qn.simulate(n=1000000)   # n is the number of events\n",
    "start = time.now()"
   ]
  },
  {
   "cell_type": "code",
   "execution_count": null,
   "metadata": {},
   "outputs": [],
   "source": [
    "data = qn.get_queue_data(edge_type=1)"
   ]
  },
  {
   "cell_type": "code",
   "execution_count": null,
   "metadata": {},
   "outputs": [],
   "source": [
    "end = time.now()\n",
    "print(end-start)"
   ]
  },
  {
   "cell_type": "code",
   "execution_count": null,
   "metadata": {},
   "outputs": [],
   "source": [
    "data.shape"
   ]
  },
  {
   "cell_type": "code",
   "execution_count": 15,
   "metadata": {},
   "outputs": [
    {
     "data": {
      "text/plain": [
       "array([[1139.28632341, 1148.26599492, 1151.31387007,    8.        ,\n",
       "           9.        ,    0.        ],\n",
       "       [1140.37503168, 1151.31387007, 1152.73144171,    9.        ,\n",
       "          10.        ,    0.        ],\n",
       "       [1141.3111137 , 1152.73144171, 1153.66349248,    7.        ,\n",
       "           8.        ,    0.        ],\n",
       "       [1141.72478732, 1153.66349248, 1153.95287853,    7.        ,\n",
       "           8.        ,    0.        ],\n",
       "       [1145.65965815, 1153.95287853, 1158.3043955 ,    7.        ,\n",
       "           8.        ,    0.        ],\n",
       "       [1145.82509502, 1158.3043955 , 1159.17005204,    8.        ,\n",
       "           9.        ,    0.        ],\n",
       "       [1146.67272768, 1159.17005204, 1159.88435657,    8.        ,\n",
       "           9.        ,    0.        ],\n",
       "       [1147.54229249, 1159.88435657, 1160.46269166,    8.        ,\n",
       "           9.        ,    0.        ],\n",
       "       [1149.30808053, 1160.46269166, 1161.28664309,    8.        ,\n",
       "           9.        ,    0.        ],\n",
       "       [1149.65900721, 1161.28664309, 1162.28821878,    9.        ,\n",
       "          10.        ,    0.        ]])"
      ]
     },
     "execution_count": 15,
     "metadata": {},
     "output_type": "execute_result"
    }
   ],
   "source": [
    "data[1000:1010]    \n",
    "# [arrival_time, service_start_time, departure_time, \n",
    "# number_in_queue, number_in_system, edge_index]"
   ]
  },
  {
   "cell_type": "code",
   "execution_count": 16,
   "metadata": {},
   "outputs": [],
   "source": [
    "arrival = []\n",
    "nis = []\n",
    "los = []\n",
    "for i in range(len(data)):\n",
    "    arrival.append(data[i][0])\n",
    "    nis.append(data[i][4])\n",
    "    los.append(data[i][2]-data[i][0])"
   ]
  },
  {
   "cell_type": "code",
   "execution_count": 17,
   "metadata": {},
   "outputs": [],
   "source": [
    "nis_los = {'arrival_time': arrival, 'NIS': nis, 'LOS': los}\n",
    "df = pd.DataFrame.from_dict(nis_los)\n",
    "df.to_csv('MM1_baseline_separate_nis.csv', index=False)"
   ]
  },
  {
   "cell_type": "code",
   "execution_count": null,
   "metadata": {},
   "outputs": [],
   "source": []
  }
 ],
 "metadata": {
  "kernelspec": {
   "display_name": "Python 3",
   "language": "python",
   "name": "python3"
  },
  "language_info": {
   "codemirror_mode": {
    "name": "ipython",
    "version": 3
   },
   "file_extension": ".py",
   "mimetype": "text/x-python",
   "name": "python",
   "nbconvert_exporter": "python",
   "pygments_lexer": "ipython3",
   "version": "3.8.3"
  }
 },
 "nbformat": 4,
 "nbformat_minor": 5
}
